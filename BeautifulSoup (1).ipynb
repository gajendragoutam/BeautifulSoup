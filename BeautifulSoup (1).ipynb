{
 "cells": [
  {
   "cell_type": "code",
   "execution_count": 2,
   "id": "e6feb657",
   "metadata": {},
   "outputs": [],
   "source": [
    "import pandas as pd\n",
    "import requests\n",
    "from bs4 import BeautifulSoup as BS"
   ]
  },
  {
   "cell_type": "code",
   "execution_count": 43,
   "id": "fc649d5d",
   "metadata": {},
   "outputs": [],
   "source": [
    "web = requests.get(\"https://www.ajio.com\")"
   ]
  },
  {
   "cell_type": "code",
   "execution_count": 44,
   "id": "5f9b384f",
   "metadata": {},
   "outputs": [
    {
     "data": {
      "text/plain": [
       "200"
      ]
     },
     "execution_count": 44,
     "metadata": {},
     "output_type": "execute_result"
    }
   ],
   "source": [
    "web.status_code"
   ]
  },
  {
   "cell_type": "code",
   "execution_count": 45,
   "id": "768ca3a6",
   "metadata": {},
   "outputs": [],
   "source": [
    "#  web.content"
   ]
  },
  {
   "cell_type": "code",
   "execution_count": 54,
   "id": "96a989e8",
   "metadata": {},
   "outputs": [],
   "source": [
    "soup = BS(web.content)\n",
    "# soup"
   ]
  },
  {
   "cell_type": "code",
   "execution_count": 1,
   "id": "df076526",
   "metadata": {},
   "outputs": [],
   "source": [
    "# print(soup.prettify())"
   ]
  },
  {
   "cell_type": "code",
   "execution_count": 56,
   "id": "e6a1e242",
   "metadata": {},
   "outputs": [],
   "source": [
    "bst= BS(web.text)\n",
    "# bst"
   ]
  },
  {
   "cell_type": "code",
   "execution_count": 62,
   "id": "ae7fcb97",
   "metadata": {},
   "outputs": [],
   "source": [
    "bsc = BS(web.content, \"html.parser\")\n",
    "# bsc"
   ]
  },
  {
   "cell_type": "code",
   "execution_count": 50,
   "id": "45805f27",
   "metadata": {},
   "outputs": [
    {
     "data": {
      "text/plain": [
       "<title>Online Shopping Site for Women, Men, Kids Fashion, Lifestyle &amp; More.</title>"
      ]
     },
     "execution_count": 50,
     "metadata": {},
     "output_type": "execute_result"
    }
   ],
   "source": [
    "bsc.title"
   ]
  },
  {
   "cell_type": "code",
   "execution_count": 11,
   "id": "6a8ffb39",
   "metadata": {},
   "outputs": [
    {
     "data": {
      "text/plain": [
       "'title'"
      ]
     },
     "execution_count": 11,
     "metadata": {},
     "output_type": "execute_result"
    }
   ],
   "source": [
    "bsc.title.name"
   ]
  },
  {
   "cell_type": "code",
   "execution_count": 12,
   "id": "aff3d87c",
   "metadata": {},
   "outputs": [
    {
     "data": {
      "text/plain": [
       "<p class=\"information-message\">Javascript is not enabled in browser. Enable Javascript to shop on AJIO.</p>"
      ]
     },
     "execution_count": 12,
     "metadata": {},
     "output_type": "execute_result"
    }
   ],
   "source": [
    "soup.p"
   ]
  },
  {
   "cell_type": "code",
   "execution_count": 13,
   "id": "e2dd8070",
   "metadata": {},
   "outputs": [
    {
     "data": {
      "text/plain": [
       "<a aria-label=\"Customer Care\" href=\"/selfcare\">Customer Care</a>"
      ]
     },
     "execution_count": 13,
     "metadata": {},
     "output_type": "execute_result"
    }
   ],
   "source": [
    "soup.a"
   ]
  },
  {
   "cell_type": "code",
   "execution_count": 14,
   "id": "7b0c77b2",
   "metadata": {},
   "outputs": [],
   "source": [
    "soup.h1"
   ]
  },
  {
   "cell_type": "code",
   "execution_count": 15,
   "id": "30793e3d",
   "metadata": {},
   "outputs": [
    {
     "data": {
      "text/plain": [
       "'Customer Care'"
      ]
     },
     "execution_count": 15,
     "metadata": {},
     "output_type": "execute_result"
    }
   ],
   "source": [
    "soup.a.string"
   ]
  },
  {
   "cell_type": "code",
   "execution_count": 16,
   "id": "abe2b5ef",
   "metadata": {},
   "outputs": [
    {
     "data": {
      "text/plain": [
       "'Javascript is not enabled in browser. Enable Javascript to shop on AJIO.'"
      ]
     },
     "execution_count": 16,
     "metadata": {},
     "output_type": "execute_result"
    }
   ],
   "source": [
    "soup.p.string"
   ]
  },
  {
   "cell_type": "code",
   "execution_count": 17,
   "id": "920c37f0",
   "metadata": {},
   "outputs": [
    {
     "data": {
      "text/plain": [
       "[<a aria-label=\"Customer Care\" href=\"/selfcare\">Customer Care</a>,\n",
       " <a aria-label=\"Visit Ajioluxe\" href=\"https://luxe.ajio.com\">Visit AJIOLUXE</a>,\n",
       " <a href=\"/\"><img alt=\"Ajio logo\" src=\"https://assets.ajio.com/static/img/Ajio-Logo.svg\" title=\"\" width=\"130px\"/></a>,\n",
       " <a class=\"alignTag\" href=\"/shop/men\" style=\"color:#333;height:40px;font-size:16px\" title=\"MEN\"><span aria-label=\"MEN\">MEN</span></a>,\n",
       " <a data-test=\"navigation-list\" href=\"/\">CATEGORIES</a>,\n",
       " <a href=\"/s/clothing-4461-74581\"><span><strong>CLOTHING</strong></span></a>,\n",
       " <a href=\"/s/footwear-4792-56591\"><span><strong>FOOTWEAR</strong></span></a>,\n",
       " <a href=\"/s/accessories-4792-56591\"><span><strong>ACCESSORIES</strong></span></a>,\n",
       " <a href=\"/s/latest-collections-4461-74581\"><span><strong>ALL THATS NEW</strong></span></a>,\n",
       " <a href=\"/s/clothing-4461-74582\" title=\"Clothing\">Clothing</a>]"
      ]
     },
     "execution_count": 17,
     "metadata": {},
     "output_type": "execute_result"
    }
   ],
   "source": [
    "soup.find_all('a')[:10]"
   ]
  },
  {
   "cell_type": "code",
   "execution_count": 22,
   "id": "bb043db8",
   "metadata": {},
   "outputs": [
    {
     "data": {
      "text/plain": [
       "<div class=\"ftr-items\"><a aria-label=\"Who We Are\" href=\"https://www.ajio.com/help/whoweare\" target=\"_self\" title=\"Who We Are\">Who We Are</a><a aria-label=\"Join Our Team\" href=\"https://www.ajio.com/ajio-careers\" target=\"_self\" title=\"Join Our Team\">Join Our Team</a><a aria-label=\"Terms &amp; Conditions\" href=\"https://www.ajio.com/help/termsAndCondition\" target=\"_self\" title=\"Terms &amp; Conditions\">Terms &amp; Conditions</a><a aria-label=\"We Respect Your Privacy\" href=\"https://www.ajio.com/privacypolicy\" target=\"_self\" title=\"We Respect Your Privacy\">We Respect Your Privacy</a><a aria-label=\"Fees &amp; Payments\" href=\"https://www.ajio.com/fee-payment-promotion-policy\" target=\"_self\" title=\"Fees &amp; Payments\">Fees &amp; Payments</a><a aria-label=\"Returns &amp; Refunds Policy\" href=\"https://www.ajio.com/return-refund-policy\" target=\"_self\" title=\"Returns &amp; Refunds Policy\">Returns &amp; Refunds Policy</a><a aria-label=\"Promotions Terms &amp; Conditions\" href=\"https://www.ajio.com/ajio-own-sale-policy\" target=\"_self\" title=\"Promotions Terms &amp; Conditions\">Promotions Terms &amp; Conditions</a></div>"
      ]
     },
     "execution_count": 22,
     "metadata": {},
     "output_type": "execute_result"
    }
   ],
   "source": [
    "s = soup.find(\"div\", class_= \"ftr-items\")\n",
    "s"
   ]
  },
  {
   "cell_type": "code",
   "execution_count": 30,
   "id": "2b10fcb4",
   "metadata": {},
   "outputs": [
    {
     "data": {
      "text/plain": [
       "<a aria-label=\"Who We Are\" href=\"https://www.ajio.com/help/whoweare\" target=\"_self\" title=\"Who We Are\">Who We Are</a>"
      ]
     },
     "execution_count": 30,
     "metadata": {},
     "output_type": "execute_result"
    }
   ],
   "source": [
    "lin = s.find(\"a\")\n",
    "lin"
   ]
  },
  {
   "cell_type": "code",
   "execution_count": 31,
   "id": "ca6d4fc3",
   "metadata": {},
   "outputs": [
    {
     "name": "stdout",
     "output_type": "stream",
     "text": [
      "Who We Are\n"
     ]
    }
   ],
   "source": [
    "for i in lin:\n",
    "    print(i.text)"
   ]
  },
  {
   "cell_type": "code",
   "execution_count": 37,
   "id": "ed9e3086",
   "metadata": {},
   "outputs": [
    {
     "name": "stdout",
     "output_type": "stream",
     "text": [
      "/selfcare\n",
      "https://luxe.ajio.com\n",
      "/\n",
      "/shop/men\n",
      "/\n",
      "/s/clothing-4461-74581\n",
      "/s/footwear-4792-56591\n",
      "/s/accessories-4792-56591\n",
      "/s/latest-collections-4461-74581\n",
      "/s/clothing-4461-74582\n"
     ]
    }
   ],
   "source": [
    "for i in soup.find_all(\"a\")[:10]:\n",
    "    print(i.get(\"href\"))"
   ]
  },
  {
   "cell_type": "code",
   "execution_count": null,
   "id": "c5271586",
   "metadata": {},
   "outputs": [],
   "source": []
  },
  {
   "cell_type": "code",
   "execution_count": 51,
   "id": "001dbba1",
   "metadata": {},
   "outputs": [
    {
     "data": {
      "text/plain": [
       "[<img alt=\"Ajio logo\" src=\"https://assets.ajio.com/static/img/Ajio-Logo.svg\" title=\"\" width=\"130px\"/>,\n",
       " <img alt=\"Wishlist icon\" src=\"https://assets.ajio.com/static/img/wishlistIcon.svg\" tabindex=\"0\"/>,\n",
       " <img alt=\"Page not available image\" src=\"https://assets.ajio.com/static/img/404.jpg\" width=\"100%\"/>]"
      ]
     },
     "execution_count": 51,
     "metadata": {},
     "output_type": "execute_result"
    }
   ],
   "source": [
    "img = soup.find_all(\"img\")\n",
    "img"
   ]
  },
  {
   "cell_type": "code",
   "execution_count": 52,
   "id": "2d97658d",
   "metadata": {},
   "outputs": [
    {
     "name": "stdout",
     "output_type": "stream",
     "text": [
      "https://assets.ajio.com/static/img/Ajio-Logo.svg\n",
      "https://assets.ajio.com/static/img/wishlistIcon.svg\n",
      "https://assets.ajio.com/static/img/404.jpg\n"
     ]
    }
   ],
   "source": [
    "for a in img:\n",
    "    print(a.get(\"src\"))"
   ]
  },
  {
   "cell_type": "code",
   "execution_count": 64,
   "id": "214b1d0c",
   "metadata": {},
   "outputs": [
    {
     "data": {
      "text/plain": [
       "[<span aria-label=\"Shop by:\" class=\"shopby-text\">Shop by: </span>,\n",
       " <span aria-label=\"Shop by:\" class=\"shopby-text\">Shop by: </span>,\n",
       " <span aria-label=\"Shop by:\" class=\"shopby-text\">Shop by: </span>,\n",
       " <span aria-label=\"Shop by:\" class=\"shopby-text\">Shop by: </span>,\n",
       " <span aria-label=\"Shop by:\" class=\"shopby-text\">Shop by: </span>]"
      ]
     },
     "execution_count": 64,
     "metadata": {},
     "output_type": "execute_result"
    }
   ],
   "source": [
    "text = soup.find_all(\"span\", class_=(\"shopby-text\"))\n",
    "text"
   ]
  },
  {
   "cell_type": "code",
   "execution_count": 70,
   "id": "e978969f",
   "metadata": {},
   "outputs": [
    {
     "name": "stdout",
     "output_type": "stream",
     "text": [
      "Shop by: \n",
      "Shop by: \n",
      "Shop by: \n",
      "Shop by: \n",
      "Shop by: \n"
     ]
    }
   ],
   "source": [
    "for texts in text:\n",
    "    print(texts.text)"
   ]
  },
  {
   "cell_type": "code",
   "execution_count": null,
   "id": "90d091eb",
   "metadata": {},
   "outputs": [],
   "source": []
  }
 ],
 "metadata": {
  "kernelspec": {
   "display_name": "Python 3 (ipykernel)",
   "language": "python",
   "name": "python3"
  },
  "language_info": {
   "codemirror_mode": {
    "name": "ipython",
    "version": 3
   },
   "file_extension": ".py",
   "mimetype": "text/x-python",
   "name": "python",
   "nbconvert_exporter": "python",
   "pygments_lexer": "ipython3",
   "version": "3.11.7"
  }
 },
 "nbformat": 4,
 "nbformat_minor": 5
}
